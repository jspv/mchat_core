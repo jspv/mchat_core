{
 "cells": [
  {
   "cell_type": "code",
   "execution_count": null,
   "id": "299cf98f",
   "metadata": {},
   "outputs": [
    {
     "name": "stdout",
     "output_type": "stream",
     "text": [
      "All tools: ['mcp_placeholder_3017']\n",
      "Helper agent tools: [{'mcp': 'uvx --with fastmcp python examples/mcp/mcp_datetime_server.py', 'cwd': '/Users/justin/src/mchat/mchat_core'}]\n",
      "\n",
      "🔍 Testing the mcp functionality...\n"
     ]
    },
    {
     "name": "stderr",
     "output_type": "stream",
     "text": [
      "Error in agent stream: 'TextMessage' object has no attribute 'get'\n"
     ]
    },
    {
     "name": "stdout",
     "output_type": "stream",
     "text": [
      "Error in agent stream: 'TextMessage' object has no attribute 'get'\n"
     ]
    }
   ],
   "source": [
    "from mchat_core.agent_manager import AgentManager\n",
    "\n",
    "# MCP tools are registered as placeholders and replaced with real tools at conversation time\n",
    "\n",
    "agents_yaml = \"\"\"\n",
    "helper:\n",
    "  type: agent\n",
    "  description: A helpful AI with access to mcp tools\n",
    "  prompt: >\n",
    "    Help the user with their request.\n",
    "  tools:\n",
    "    # Stdio option (launch server via uvx in a separate terminal):\n",
    "    - mcp: uvx --with fastmcp python examples/mcp/mcp_datetime_server.py\n",
    "      cwd: /Users/justin/src/mchat/mchat_core\n",
    "\n",
    "    # HTTP-stream option (server started separately):\n",
    "    # - mcp:http://127.0.0.1:8000/mcp\n",
    "\"\"\"\n",
    "\n",
    "am = AgentManager(agent_paths=[agents_yaml])\n",
    "\n",
    "def print_message(msg):\n",
    "    print(f\"{msg}\"))\n",
    "\n",
    "# Now the MCP tools should show up immediately as placeholder tools\n",
    "print(\"All tools:\", am.list_tools())\n",
    "print(\"Helper agent tools:\", am.list_agent_tools(\"helper\"))\n",
    "\n",
    "# Test the tool now that everything is wired up\n",
    "print(\"\\n🔍 Testing the mcp functionality...\")\n",
    "session = await am.new_conversation(\"helper\", agent_callback=print_message, stream_tokens=False)\n",
    "out = await session.ask(\"Use your tool to determine the current date and time.\")\n",
    "\n",
    "print(out.messages[-1].content)"
   ]
  }
 ],
 "metadata": {
  "kernelspec": {
   "display_name": "mchat-core",
   "language": "python",
   "name": "python3"
  },
  "language_info": {
   "codemirror_mode": {
    "name": "ipython",
    "version": 3
   },
   "file_extension": ".py",
   "mimetype": "text/x-python",
   "name": "python",
   "nbconvert_exporter": "python",
   "pygments_lexer": "ipython3",
   "version": "3.13.3"
  }
 },
 "nbformat": 4,
 "nbformat_minor": 5
}
